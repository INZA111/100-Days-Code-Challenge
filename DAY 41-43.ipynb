{
 "cells": [
  {
   "cell_type": "markdown",
   "metadata": {},
   "source": [
    "## Branch Sums"
   ]
  },
  {
   "cell_type": "code",
   "execution_count": 1,
   "metadata": {},
   "outputs": [],
   "source": [
    "class BinaryTree:\n",
    "    def __init__(self,value):\n",
    "        self.value=value\n",
    "        self.left=None\n",
    "        self.right=None\n",
    "        \n",
    "    def branchSums(root):\n",
    "        sums=[]\n",
    "        calculateBranchSums(root,0,sums)\n",
    "        return sums\n",
    "    \n",
    "    def calculateBranchSums(node,runningSums,sums):\n",
    "        if node is None:\n",
    "            return\n",
    "        \n",
    "        newRunningSum=runningSums+node.value\n",
    "        \n",
    "        if node.left is None and node.right is None:\n",
    "            sums.append(newRunningSum)\n",
    "            \n",
    "        calculateBranchSums(node.left,newRunningSum,sums)\n",
    "        calculateBranchSums(node.right,newRunningSum,sums)\n",
    "        "
   ]
  },
  {
   "cell_type": "markdown",
   "metadata": {},
   "source": [
    "## Invert Binary Tree "
   ]
  },
  {
   "cell_type": "code",
   "execution_count": 3,
   "metadata": {},
   "outputs": [],
   "source": [
    "class TreeNode:\n",
    "    def __init__(self, val=0, left=None, right=None):\n",
    "        self.val = val\n",
    "        self.left = left\n",
    "        self.right = right\n",
    "        \n",
    "    def invertTree(tree):\n",
    "        if tree is None:\n",
    "            return\n",
    "        \n",
    "        swapLeftAndRight(tree)\n",
    "        invertTree(tree.left)\n",
    "        invertTree(tree.right)\n",
    "        \n",
    "    def swapLeftAndRight(tree):\n",
    "        tree.left,tree.right=tree.right,tree.left"
   ]
  },
  {
   "cell_type": "markdown",
   "metadata": {},
   "source": [
    "## Max Path Sum in Binary Tree"
   ]
  },
  {
   "cell_type": "code",
   "execution_count": 4,
   "metadata": {},
   "outputs": [],
   "source": [
    "def maxPathSum(tree):\n",
    "    _,maxSum=findMaxSum(tree)\n",
    "    return maxSum\n",
    "\n",
    "def findMaxSum(tree):\n",
    "    if tree is None:\n",
    "        return(0,0)\n",
    "    \n",
    "    left_max_sum_as_branch,left_max_path_sum=findMaxSum(tree.left)\n",
    "    right_max_sum_as_branch,right_max_path_sum=findMaxSum(tree.right)\n",
    "    max_child_sum_as_branch=max(left_max_sum_as_branch,right_max_sum_as_branch)\n",
    "    \n",
    "    value=tree.value\n",
    "    max_sum_as_branch=max(max_child_sum_as_branch+value,value)\n",
    "    max_sum_as_root_node=max(left_max_sum_as_branch+value+right_max_sum_as_branch,max_sum_as_branch)\n",
    "    max_path_sum=max(left_max_path_sum,right_max_path_sum,max_sum_as_root_node)\n",
    "    \n",
    "    return(max_sum_as_branch,max_path_sum)"
   ]
  },
  {
   "cell_type": "markdown",
   "metadata": {},
   "source": [
    "## Iterative Inorder Traversal"
   ]
  },
  {
   "cell_type": "code",
   "execution_count": null,
   "metadata": {},
   "outputs": [],
   "source": [
    "def iterativeInorder(tree,callback):\n",
    "    previousNode=None\n",
    "    currentNode=tree\n",
    "            \n",
    "    while currentNode is not None:\n",
    "        if previousNode is None or PreviousNode==currentNode.parent:\n",
    "            if currentNode.left is notNone:\n",
    "                nextNode=currentNode.left\n",
    "                    \n",
    "            else:\n",
    "                callback(currentNode)\n",
    "                nextNode=currentNode.right if currentNode.right is not None else currentNode.parent\n",
    "                \n",
    "            elif previousNode==currentNode.left:\n",
    "                callback(currentNode)\n",
    "                nextNode=currentNode.right if currentNode.right is not None else currentNode.parent\n",
    "                \n",
    "            else:\n",
    "                extNode=currentNode.parent\n",
    "            previousNode=currentNode\n",
    "            currentNode=nextNode"
   ]
  }
 ],
 "metadata": {
  "kernelspec": {
   "display_name": "Python 3",
   "language": "python",
   "name": "python3"
  },
  "language_info": {
   "codemirror_mode": {
    "name": "ipython",
    "version": 3
   },
   "file_extension": ".py",
   "mimetype": "text/x-python",
   "name": "python",
   "nbconvert_exporter": "python",
   "pygments_lexer": "ipython3",
   "version": "3.6.5"
  }
 },
 "nbformat": 4,
 "nbformat_minor": 2
}
