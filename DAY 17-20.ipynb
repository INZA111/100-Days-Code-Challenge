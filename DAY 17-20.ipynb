{
 "cells": [
  {
   "cell_type": "markdown",
   "metadata": {},
   "source": [
    "## 1.Queue Implementation using Linked List"
   ]
  },
  {
   "cell_type": "code",
   "execution_count": 1,
   "metadata": {},
   "outputs": [
    {
     "name": "stdout",
     "output_type": "stream",
     "text": [
      "inserting 1\n",
      "inserting 2\n",
      "inserting 3\n",
      "inserting 4\n",
      "Front element is 1\n",
      "removing 1\n",
      "removing 2\n",
      "removing 3\n",
      "removing 4\n",
      "Queue is empty\n"
     ]
    }
   ],
   "source": [
    "#a linked list node\n",
    "class Node:\n",
    "    def __init__(self,data,left=None,right=None):\n",
    "        \n",
    "        #set the data in the allocated node and return the node\n",
    "        self.data=data\n",
    "        self.next=None\n",
    "        \n",
    "    \n",
    "class Queue:\n",
    "    rear=None\n",
    "    front=None\n",
    "    \n",
    "    #utility function to remove front element from the queue\n",
    "    def dequeue(self):  #delete at the beginning\n",
    "        \n",
    "        if self.front is None:\n",
    "            print(\"Queue Underflow\")\n",
    "            exit(1)\n",
    "            \n",
    "        temp=self.front\n",
    "        print(\"removing\",temp.data)\n",
    "        \n",
    "        #advance front to the next node\n",
    "        self.front=self.front.next\n",
    "        \n",
    "        #if list becomes empty\n",
    "        if self.front is None:\n",
    "            self.rear=None\n",
    "            \n",
    "        \n",
    "        #deallocate the memory of removed node and optionally return the removed item\n",
    "        item=temp.data\n",
    "        return item\n",
    "    \n",
    "    \n",
    "    #utility function to add an item to the queue\n",
    "    def enqueue(self,item): #node insertion at the end\n",
    "        \n",
    "        #allocate the node in the heap\n",
    "        node=Node(item)\n",
    "        print(\"inserting\",item)\n",
    "        \n",
    "        #special case:queue was empty\n",
    "        if self.front is None:\n",
    "            #initialise both front and rear\n",
    "            self.front=node\n",
    "            self.rear=node\n",
    "            \n",
    "        else:\n",
    "            #update rear\n",
    "            self.rear.next=node\n",
    "            self.rear=node\n",
    "            \n",
    "    #utitlity function to return top element in queue\n",
    "    def peek(self):\n",
    "        \n",
    "        #check for empty queue\n",
    "        if self.front:\n",
    "            return self.front.data\n",
    "        else:\n",
    "            exit(1)\n",
    "            \n",
    "        return -1\n",
    "    \n",
    "    #utility function to check if the queue is empty or not\n",
    "    def isEmpty(self):\n",
    "        return self.rear is None and self.front is None\n",
    "    \n",
    "\n",
    "if __name__ == '__main__':\n",
    "    q = Queue()\n",
    "    q.enqueue(1)\n",
    "    q.enqueue(2)\n",
    "    q.enqueue(3)\n",
    "    q.enqueue(4)\n",
    "    \n",
    "    print(\"Front element is\", q.peek())\n",
    "    \n",
    "    q.dequeue()\n",
    "    q.dequeue()\n",
    "    q.dequeue()\n",
    "    q.dequeue()\n",
    "    \n",
    "    if q.isEmpty():\n",
    "        print(\"Queue is empty\")\n",
    "        \n",
    "    else:\n",
    "        print(\"Queue is not empty\")\n",
    "            \n",
    "            \n",
    "        \n",
    "    "
   ]
  },
  {
   "cell_type": "markdown",
   "metadata": {},
   "source": [
    "## Generate Binary Numbers between 1 to N using Queue "
   ]
  },
  {
   "cell_type": "code",
   "execution_count": 4,
   "metadata": {
    "scrolled": true
   },
   "outputs": [
    {
     "name": "stdout",
     "output_type": "stream",
     "text": [
      "1 10 11 100 101 110 111 1000 1001 1010 1011 1100 1101 1110 1111 10000 \n",
      "\n",
      "1 10 11 100 101 110 111 1000 1001 1010 "
     ]
    }
   ],
   "source": [
    "from collections import deque\n",
    "\n",
    "#function to generate binary number between 1 to N using queue\n",
    "def generate(n):\n",
    "    #create an empty queue and push 1 to it\n",
    "    q=deque()\n",
    "    q.append('1')\n",
    "    \n",
    "    #run n times\n",
    "    for i in range(n):\n",
    "        #pop the front element\n",
    "        front=str(q.popleft())\n",
    "        \n",
    "        #append 0 and 1 to the front element of the queue and enqueue both strings\n",
    "        q.append(front+'0')\n",
    "        q.append(front+'1')\n",
    "        \n",
    "        #print the front element\n",
    "        print(front,end=' ')\n",
    "        \n",
    "if __name__=='__main__':\n",
    "    n=16\n",
    "    generate(n)\n",
    "    \n",
    "    print('\\n')\n",
    "    \n",
    "    n=10\n",
    "    generate(n)\n",
    "        \n"
   ]
  },
  {
   "cell_type": "markdown",
   "metadata": {},
   "source": [
    "## 3.Reversing a Queue"
   ]
  },
  {
   "cell_type": "code",
   "execution_count": 1,
   "metadata": {},
   "outputs": [
    {
     "name": "stdout",
     "output_type": "stream",
     "text": [
      "100, 90, 80, 70, 60, 50, 40, 30, 20, 10, "
     ]
    }
   ],
   "source": [
    "# Python3 program to reverse a queue  \n",
    "from queue import Queue  \n",
    "  \n",
    "# Utility function to print the queue  \n",
    "def Print(queue): \n",
    "    while (not queue.empty()): \n",
    "        print(queue.queue[0], end = \", \")  \n",
    "        queue.get() \n",
    "\n",
    "def reversequeue(queue): \n",
    "    Stack = []  \n",
    "    while (not queue.empty()):  \n",
    "        Stack.append(queue.queue[0])  \n",
    "        queue.get() \n",
    "    while (len(Stack) != 0):  \n",
    "        queue.put(Stack[-1])  \n",
    "        Stack.pop() \n",
    "\n",
    "if __name__ == '__main__': \n",
    "    queue = Queue() \n",
    "    queue.put(10)  \n",
    "    queue.put(20)  \n",
    "    queue.put(30)  \n",
    "    queue.put(40)  \n",
    "    queue.put(50)  \n",
    "    queue.put(60)  \n",
    "    queue.put(70)  \n",
    "    queue.put(80)  \n",
    "    queue.put(90)  \n",
    "    queue.put(100)  \n",
    "  \n",
    "    reversequeue(queue)  \n",
    "    Print(queue) \n",
    "  "
   ]
  },
  {
   "cell_type": "code",
   "execution_count": null,
   "metadata": {},
   "outputs": [],
   "source": []
  },
  {
   "cell_type": "code",
   "execution_count": null,
   "metadata": {},
   "outputs": [],
   "source": []
  }
 ],
 "metadata": {
  "kernelspec": {
   "display_name": "Python 3",
   "language": "python",
   "name": "python3"
  },
  "language_info": {
   "codemirror_mode": {
    "name": "ipython",
    "version": 3
   },
   "file_extension": ".py",
   "mimetype": "text/x-python",
   "name": "python",
   "nbconvert_exporter": "python",
   "pygments_lexer": "ipython3",
   "version": "3.6.5"
  }
 },
 "nbformat": 4,
 "nbformat_minor": 2
}
